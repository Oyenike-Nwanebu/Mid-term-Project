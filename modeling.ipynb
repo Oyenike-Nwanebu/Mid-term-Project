{
 "cells": [
  {
   "cell_type": "markdown",
   "metadata": {},
   "source": [
    "# Clustering\n",
    "In this file, instructions how to approach the challenge can be found.\n",
    "\n",
    "We can use different types of clustering algorithms:\n",
    "\n",
    "- KMeans\n",
    "- Hierarchical\n",
    "- DBScan"
   ]
  },
  {
   "cell_type": "code",
   "execution_count": 8,
   "metadata": {},
   "outputs": [],
   "source": [
    "#import libraries\n",
    "import pandas as pd\n",
    "import numpy as np\n",
    "# import matplotlib\n",
    "import matplotlib.pyplot as plt\n",
    "\n",
    "# import Kmeans from sklearn\n",
    "from sklearn.cluster import KMeans"
   ]
  },
  {
   "cell_type": "code",
   "execution_count": 10,
   "metadata": {},
   "outputs": [
    {
     "data": {
      "text/html": [
       "<div>\n",
       "<style scoped>\n",
       "    .dataframe tbody tr th:only-of-type {\n",
       "        vertical-align: middle;\n",
       "    }\n",
       "\n",
       "    .dataframe tbody tr th {\n",
       "        vertical-align: top;\n",
       "    }\n",
       "\n",
       "    .dataframe thead th {\n",
       "        text-align: right;\n",
       "    }\n",
       "</style>\n",
       "<table border=\"1\" class=\"dataframe\">\n",
       "  <thead>\n",
       "    <tr style=\"text-align: right;\">\n",
       "      <th></th>\n",
       "      <th>Borough</th>\n",
       "      <th>Case_Count_2020</th>\n",
       "      <th>Case_Count_2021</th>\n",
       "      <th>Case_Count_2022</th>\n",
       "      <th>Hospitalized_count_2020</th>\n",
       "      <th>Hospitalized_count_2021</th>\n",
       "      <th>Hospitalized_count_2022</th>\n",
       "      <th>Death_Count_2020</th>\n",
       "      <th>Death_Count_2021</th>\n",
       "      <th>Death_Count_2022</th>\n",
       "      <th>Population(2020)</th>\n",
       "    </tr>\n",
       "  </thead>\n",
       "  <tbody>\n",
       "    <tr>\n",
       "      <th>0</th>\n",
       "      <td>Bronx</td>\n",
       "      <td>0.055658</td>\n",
       "      <td>0.121450</td>\n",
       "      <td>0.061446</td>\n",
       "      <td>0.009912</td>\n",
       "      <td>0.008787</td>\n",
       "      <td>0.003946</td>\n",
       "      <td>0.002878</td>\n",
       "      <td>0.001187</td>\n",
       "      <td>0.000535</td>\n",
       "      <td>1.0</td>\n",
       "    </tr>\n",
       "    <tr>\n",
       "      <th>1</th>\n",
       "      <td>Brooklyn</td>\n",
       "      <td>0.043656</td>\n",
       "      <td>0.123266</td>\n",
       "      <td>0.066174</td>\n",
       "      <td>0.007478</td>\n",
       "      <td>0.007246</td>\n",
       "      <td>0.002695</td>\n",
       "      <td>0.002302</td>\n",
       "      <td>0.001231</td>\n",
       "      <td>0.000566</td>\n",
       "      <td>1.0</td>\n",
       "    </tr>\n",
       "    <tr>\n",
       "      <th>2</th>\n",
       "      <td>Manhattan</td>\n",
       "      <td>0.033986</td>\n",
       "      <td>0.115840</td>\n",
       "      <td>0.070376</td>\n",
       "      <td>0.005760</td>\n",
       "      <td>0.005209</td>\n",
       "      <td>0.002356</td>\n",
       "      <td>0.001628</td>\n",
       "      <td>0.000819</td>\n",
       "      <td>0.000410</td>\n",
       "      <td>1.0</td>\n",
       "    </tr>\n",
       "    <tr>\n",
       "      <th>3</th>\n",
       "      <td>Queens</td>\n",
       "      <td>0.050235</td>\n",
       "      <td>0.122978</td>\n",
       "      <td>0.067975</td>\n",
       "      <td>0.008889</td>\n",
       "      <td>0.007133</td>\n",
       "      <td>0.002450</td>\n",
       "      <td>0.002712</td>\n",
       "      <td>0.001238</td>\n",
       "      <td>0.000509</td>\n",
       "      <td>1.0</td>\n",
       "    </tr>\n",
       "    <tr>\n",
       "      <th>4</th>\n",
       "      <td>Staten Island</td>\n",
       "      <td>0.066975</td>\n",
       "      <td>0.159910</td>\n",
       "      <td>0.075456</td>\n",
       "      <td>0.007419</td>\n",
       "      <td>0.007634</td>\n",
       "      <td>0.002896</td>\n",
       "      <td>0.002262</td>\n",
       "      <td>0.001431</td>\n",
       "      <td>0.000606</td>\n",
       "      <td>1.0</td>\n",
       "    </tr>\n",
       "  </tbody>\n",
       "</table>\n",
       "</div>"
      ],
      "text/plain": [
       "         Borough  Case_Count_2020  Case_Count_2021  Case_Count_2022  \\\n",
       "0          Bronx         0.055658         0.121450         0.061446   \n",
       "1       Brooklyn         0.043656         0.123266         0.066174   \n",
       "2      Manhattan         0.033986         0.115840         0.070376   \n",
       "3         Queens         0.050235         0.122978         0.067975   \n",
       "4  Staten Island         0.066975         0.159910         0.075456   \n",
       "\n",
       "   Hospitalized_count_2020  Hospitalized_count_2021  Hospitalized_count_2022  \\\n",
       "0                 0.009912                 0.008787                 0.003946   \n",
       "1                 0.007478                 0.007246                 0.002695   \n",
       "2                 0.005760                 0.005209                 0.002356   \n",
       "3                 0.008889                 0.007133                 0.002450   \n",
       "4                 0.007419                 0.007634                 0.002896   \n",
       "\n",
       "   Death_Count_2020  Death_Count_2021  Death_Count_2022  Population(2020)  \n",
       "0          0.002878          0.001187          0.000535               1.0  \n",
       "1          0.002302          0.001231          0.000566               1.0  \n",
       "2          0.001628          0.000819          0.000410               1.0  \n",
       "3          0.002712          0.001238          0.000509               1.0  \n",
       "4          0.002262          0.001431          0.000606               1.0  "
      ]
     },
     "execution_count": 10,
     "metadata": {},
     "output_type": "execute_result"
    }
   ],
   "source": [
    "#load dataset\n",
    "covid = pd.read_csv('covid_df.csv')\n",
    "\n",
    "#check data\n",
    "covid"
   ]
  },
  {
   "cell_type": "code",
   "execution_count": 11,
   "metadata": {},
   "outputs": [
    {
     "data": {
      "text/html": [
       "<div>\n",
       "<style scoped>\n",
       "    .dataframe tbody tr th:only-of-type {\n",
       "        vertical-align: middle;\n",
       "    }\n",
       "\n",
       "    .dataframe tbody tr th {\n",
       "        vertical-align: top;\n",
       "    }\n",
       "\n",
       "    .dataframe thead th {\n",
       "        text-align: right;\n",
       "    }\n",
       "</style>\n",
       "<table border=\"1\" class=\"dataframe\">\n",
       "  <thead>\n",
       "    <tr style=\"text-align: right;\">\n",
       "      <th></th>\n",
       "      <th>Case_Count_2020</th>\n",
       "      <th>Case_Count_2021</th>\n",
       "      <th>Case_Count_2022</th>\n",
       "      <th>Hospitalized_count_2020</th>\n",
       "      <th>Hospitalized_count_2021</th>\n",
       "      <th>Hospitalized_count_2022</th>\n",
       "      <th>Death_Count_2020</th>\n",
       "      <th>Death_Count_2021</th>\n",
       "      <th>Death_Count_2022</th>\n",
       "    </tr>\n",
       "  </thead>\n",
       "  <tbody>\n",
       "    <tr>\n",
       "      <th>0</th>\n",
       "      <td>0.055658</td>\n",
       "      <td>0.121450</td>\n",
       "      <td>0.061446</td>\n",
       "      <td>0.009912</td>\n",
       "      <td>0.008787</td>\n",
       "      <td>0.003946</td>\n",
       "      <td>0.002878</td>\n",
       "      <td>0.001187</td>\n",
       "      <td>0.000535</td>\n",
       "    </tr>\n",
       "    <tr>\n",
       "      <th>1</th>\n",
       "      <td>0.043656</td>\n",
       "      <td>0.123266</td>\n",
       "      <td>0.066174</td>\n",
       "      <td>0.007478</td>\n",
       "      <td>0.007246</td>\n",
       "      <td>0.002695</td>\n",
       "      <td>0.002302</td>\n",
       "      <td>0.001231</td>\n",
       "      <td>0.000566</td>\n",
       "    </tr>\n",
       "    <tr>\n",
       "      <th>2</th>\n",
       "      <td>0.033986</td>\n",
       "      <td>0.115840</td>\n",
       "      <td>0.070376</td>\n",
       "      <td>0.005760</td>\n",
       "      <td>0.005209</td>\n",
       "      <td>0.002356</td>\n",
       "      <td>0.001628</td>\n",
       "      <td>0.000819</td>\n",
       "      <td>0.000410</td>\n",
       "    </tr>\n",
       "    <tr>\n",
       "      <th>3</th>\n",
       "      <td>0.050235</td>\n",
       "      <td>0.122978</td>\n",
       "      <td>0.067975</td>\n",
       "      <td>0.008889</td>\n",
       "      <td>0.007133</td>\n",
       "      <td>0.002450</td>\n",
       "      <td>0.002712</td>\n",
       "      <td>0.001238</td>\n",
       "      <td>0.000509</td>\n",
       "    </tr>\n",
       "    <tr>\n",
       "      <th>4</th>\n",
       "      <td>0.066975</td>\n",
       "      <td>0.159910</td>\n",
       "      <td>0.075456</td>\n",
       "      <td>0.007419</td>\n",
       "      <td>0.007634</td>\n",
       "      <td>0.002896</td>\n",
       "      <td>0.002262</td>\n",
       "      <td>0.001431</td>\n",
       "      <td>0.000606</td>\n",
       "    </tr>\n",
       "  </tbody>\n",
       "</table>\n",
       "</div>"
      ],
      "text/plain": [
       "   Case_Count_2020  Case_Count_2021  Case_Count_2022  Hospitalized_count_2020  \\\n",
       "0         0.055658         0.121450         0.061446                 0.009912   \n",
       "1         0.043656         0.123266         0.066174                 0.007478   \n",
       "2         0.033986         0.115840         0.070376                 0.005760   \n",
       "3         0.050235         0.122978         0.067975                 0.008889   \n",
       "4         0.066975         0.159910         0.075456                 0.007419   \n",
       "\n",
       "   Hospitalized_count_2021  Hospitalized_count_2022  Death_Count_2020  \\\n",
       "0                 0.008787                 0.003946          0.002878   \n",
       "1                 0.007246                 0.002695          0.002302   \n",
       "2                 0.005209                 0.002356          0.001628   \n",
       "3                 0.007133                 0.002450          0.002712   \n",
       "4                 0.007634                 0.002896          0.002262   \n",
       "\n",
       "   Death_Count_2021  Death_Count_2022  \n",
       "0          0.001187          0.000535  \n",
       "1          0.001231          0.000566  \n",
       "2          0.000819          0.000410  \n",
       "3          0.001238          0.000509  \n",
       "4          0.001431          0.000606  "
      ]
     },
     "execution_count": 11,
     "metadata": {},
     "output_type": "execute_result"
    }
   ],
   "source": [
    "#drop Borough column\n",
    "covid.drop(['Borough', 'Population(2020)'], axis=1, inplace=True)\n",
    "\n",
    "#check\n",
    "covid"
   ]
  },
  {
   "cell_type": "code",
   "execution_count": 24,
   "metadata": {},
   "outputs": [],
   "source": [
    "###Elbow Rule --Used to determine k - number of clusters -- aim for small inertia/distortion\n",
    "\n",
    "#define function to calculate the distortion(inertia) for multiple k values and plot the results\n",
    "def plot_distortion(X,max_clusters = 5):\n",
    "    distortions = []\n",
    "    for i in range(1, max_clusters +1):\n",
    "        km = KMeans(n_clusters=i,\n",
    "                    init='k-means++',\n",
    "                    n_init=10,\n",
    "                    random_state=0)\n",
    "        km.fit(X)\n",
    "        distortions.append(km.inertia_)\n",
    "        \n",
    "    plt.plot(range(1,max_clusters +1), distortions, marker='o')\n",
    "    plt.xlabel('Number of clusters')\n",
    "    plt.ylabel('Distortion')\n",
    "    plt.show() \n",
    "        "
   ]
  },
  {
   "cell_type": "code",
   "execution_count": 25,
   "metadata": {},
   "outputs": [
    {
     "data": {
      "image/png": "[encoded data removed]",
      "text/plain": [
       "<Figure size 432x288 with 1 Axes>"
      ]
     },
     "metadata": {
      "needs_background": "light"
     },
     "output_type": "display_data"
    }
   ],
   "source": [
    "# elbow rule\n",
    "plot_distortion(X,max_clusters=5)"
   ]
  },
  {
   "cell_type": "code",
   "execution_count": 27,
   "metadata": {},
   "outputs": [],
   "source": [
    "##K-Means Clustering\n",
    "\n",
    "km = KMeans(n_clusters=2, # how many clusters from elbow rule\n",
    "            n_init=10, # how many initial runs\n",
    "            random_state=0) #For reproducibility"
   ]
  },
  {
   "cell_type": "code",
   "execution_count": 28,
   "metadata": {},
   "outputs": [],
   "source": [
    "## fit and predict as no need for scaling because our features have already been scaled using population\n",
    "X = covid\n",
    "\n",
    "y_km = km.fit_predict(X)"
   ]
  },
  {
   "cell_type": "code",
   "execution_count": 29,
   "metadata": {},
   "outputs": [
    {
     "data": {
      "text/plain": [
       "array([1, 1, 1, 1, 0], dtype=int32)"
      ]
     },
     "execution_count": 29,
     "metadata": {},
     "output_type": "execute_result"
    }
   ],
   "source": [
    "\n",
    "y_km\n"
   ]
  },
  {
   "cell_type": "code",
   "execution_count": null,
   "metadata": {},
   "outputs": [],
   "source": []
  },
  {
   "cell_type": "markdown",
   "metadata": {},
   "source": [
    "## Segmentation of NYC neighborhoods\n",
    "\n",
    "The goal of this project is to segment the neighborhoods of New York City into separate clusters and examine the information about them. For clustering, We can use any available information **except** demographic and economic indicators. We don't want to segment them based on those and we want to keep them for the **profiling of clusters** to see if there are any important economic differences between the created clusters."
   ]
  },
  {
   "cell_type": "code",
   "execution_count": null,
   "metadata": {},
   "outputs": [],
   "source": []
  },
  {
   "cell_type": "code",
   "execution_count": null,
   "metadata": {},
   "outputs": [],
   "source": []
  },
  {
   "cell_type": "code",
   "execution_count": null,
   "metadata": {},
   "outputs": [],
   "source": []
  },
  {
   "cell_type": "markdown",
   "metadata": {},
   "source": [
    "### Feature Engineering\n",
    "\n",
    "Feature engineering plays a crucial role in this problem. We have limited amount of attributes so we need to create some features that will be important for segmentation.\n",
    "\n",
    "- Google Places, Yelp and Foursquare APIs: number of venues, density of venues per square mile, number of restaurants, top restarurant category...\n",
    "- Uber: number of rides per day in the neighborhood\n",
    "- Meetups: number of events\n",
    "- etc..."
   ]
  },
  {
   "cell_type": "code",
   "execution_count": null,
   "metadata": {},
   "outputs": [],
   "source": []
  },
  {
   "cell_type": "code",
   "execution_count": null,
   "metadata": {},
   "outputs": [],
   "source": []
  },
  {
   "cell_type": "code",
   "execution_count": null,
   "metadata": {},
   "outputs": [],
   "source": []
  },
  {
   "cell_type": "code",
   "execution_count": null,
   "metadata": {},
   "outputs": [],
   "source": []
  },
  {
   "cell_type": "markdown",
   "metadata": {},
   "source": [
    "### Feature Selection / Dimensionality Reduction¶\n",
    "We need to apply different selection techniques to find out which one will be the best for our problems.\n",
    "\n",
    "Original Features vs. PCA conponents?\n",
    "\n",
    "Don't forget to scale the features for KMeans."
   ]
  },
  {
   "cell_type": "code",
   "execution_count": null,
   "metadata": {},
   "outputs": [],
   "source": []
  },
  {
   "cell_type": "code",
   "execution_count": null,
   "metadata": {},
   "outputs": [],
   "source": []
  },
  {
   "cell_type": "code",
   "execution_count": null,
   "metadata": {},
   "outputs": [],
   "source": []
  },
  {
   "cell_type": "markdown",
   "metadata": {},
   "source": [
    "### Modeling\n",
    "\n",
    "Use different attributes and clustering techniques and compare the created clusters:\n",
    "\n",
    "- clustering only on restaurant features\n",
    "- clustering only on Uber features\n",
    "- clustering only on location\n",
    "- combination of all\n",
    "\n",
    "**Questions:**\n",
    "1. Which clustering is the best?\n",
    "2. How are neighborhoods split when we select only 2 clusters?\n",
    "3. Are there any differences in housing and rental costs in different clusters?"
   ]
  },
  {
   "cell_type": "code",
   "execution_count": null,
   "metadata": {},
   "outputs": [],
   "source": []
  },
  {
   "cell_type": "code",
   "execution_count": null,
   "metadata": {},
   "outputs": [],
   "source": []
  },
  {
   "cell_type": "code",
   "execution_count": null,
   "metadata": {},
   "outputs": [],
   "source": []
  },
  {
   "cell_type": "code",
   "execution_count": null,
   "metadata": {},
   "outputs": [],
   "source": []
  },
  {
   "cell_type": "markdown",
   "metadata": {},
   "source": [
    "### Evaluation\n",
    "\n",
    "1. Check the segmentation evaluation metrics:\n",
    "    - inertia\n",
    "    - silhoutte score\n",
    "2. How did you come up with the correct number of clusters?\n",
    "3. Is there any relationship between the clusters and economic indicators? If yes, what does it mean?\n",
    "\n",
    "You are required to share the file containing all NYC neighborhoods together with cluster_id with LighthouseLabs."
   ]
  },
  {
   "cell_type": "code",
   "execution_count": null,
   "metadata": {},
   "outputs": [],
   "source": []
  },
  {
   "cell_type": "code",
   "execution_count": null,
   "metadata": {},
   "outputs": [],
   "source": []
  },
  {
   "cell_type": "code",
   "execution_count": null,
   "metadata": {},
   "outputs": [],
   "source": []
  },
  {
   "cell_type": "code",
   "execution_count": null,
   "metadata": {},
   "outputs": [],
   "source": []
  }
 ],
 "metadata": {
  "kernelspec": {
   "display_name": "Python 3 (ipykernel)",
   "language": "python",
   "name": "python3"
  },
  "language_info": {
   "codemirror_mode": {
    "name": "ipython",
    "version": 3
   },
   "file_extension": ".py",
   "mimetype": "text/x-python",
   "name": "python",
   "nbconvert_exporter": "python",
   "pygments_lexer": "ipython3",
   "version": "3.9.7"
  }
 },
 "nbformat": 4,
 "nbformat_minor": 4
}
